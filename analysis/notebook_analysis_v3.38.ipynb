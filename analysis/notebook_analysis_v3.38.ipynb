{
 "cells": [
  {
   "cell_type": "markdown",
   "id": "d56799c2",
   "metadata": {},
   "source": [
    "# Versão 3.38\n",
    "Notebook com todas as análises integradas, incluindo análises adicionais sugeridas:\n",
    "1. Repeated Measures ANOVA (ciclos)\n",
    "2. Modelos Mistos\n",
    "3. Correlações e Regressões\n",
    "4. Mediação e Moderação\n",
    "5. PCA e Clustering\n",
    "6. Reconhecimento: ANOVA Repeated Measures\n",
    "7. Speed–Accuracy Trade-off\n",
    "\n",
    "Execute Restart & Run All."
   ]
  },
  {
   "cell_type": "markdown",
   "id": "546904d5",
   "metadata": {},
   "source": [
    "## 1. Imports e Configurações"
   ]
  },
  {
   "cell_type": "code",
   "execution_count": 2,
   "id": "a8686e6f",
   "metadata": {},
   "outputs": [],
   "source": [
    "import os\n",
    "import pandas as pd\n",
    "import numpy as np\n",
    "import matplotlib.pyplot as plt\n",
    "import seaborn as sns\n",
    "import scipy.stats as stats\n",
    "from statsmodels.stats.multitest import multipletests\n",
    "import pingouin as pg\n",
    "from statsmodels.formula.api import ols\n",
    "import statsmodels.api as sm\n",
    "from statsmodels.regression.mixed_linear_model import MixedLM\n",
    "from sklearn.decomposition import PCA\n",
    "from sklearn.preprocessing import StandardScaler\n",
    "from sklearn.cluster import KMeans\n",
    "\n",
    "# Diretórios\n",
    "CLEAN_DATA_DIR = r\"D:\\PhD_Jupyter\\files\\data\\clean_data\"\n",
    "ANALYSIS_DIR   = r\"D:\\PhD_Jupyter\\files\\data\\analysis\"\n",
    "os.makedirs(ANALYSIS_DIR, exist_ok=True)\n",
    "IMAGES_DIR = r\"D:\\PhD_Jupyter\\files\\data\\analysis\"\n",
    "\n",
    "EXCEL_FILENAME = \"PhD_Analysis_Full.xlsx\"\n",
    "IMAGES_DIR    = os.path.join(IMAGES_DIR, 'images')\n",
    "os.makedirs(IMAGES_DIR, exist_ok=True)\n",
    "CSV_FILENAME   = \"PhD_Analysis_Full.csv\""
   ]
  },
  {
   "cell_type": "markdown",
   "id": "548af9c4",
   "metadata": {},
   "source": [
    "## 2. Carregamento de Dados"
   ]
  },
  {
   "cell_type": "code",
   "execution_count": 3,
   "id": "1c913abc",
   "metadata": {},
   "outputs": [
    {
     "name": "stdout",
     "output_type": "stream",
     "text": [
      "    ID_codes  Strategy  Group  JOSE  words_recalled  categorical_access  \\\n",
      "0  100614101         1      0     1              25                   7   \n",
      "1  103484010         0      1     0              16                   6   \n",
      "2  106977011         0      1     1              23                   7   \n",
      "3  126855010         0      1     0              23                   8   \n",
      "4  128492111         1      1     1              26                   7   \n",
      "\n",
      "    IPCA   R  expectedR  maxR  ...  recog_target_rt  recog_unrelated_score  \\\n",
      "0  3.571  12      2.800    18  ...            0.764                     20   \n",
      "1  2.667   6      2.250    10  ...            1.004                     20   \n",
      "2  3.286   7      2.783    16  ...            1.055                     19   \n",
      "3  2.875  10      2.435    15  ...            1.219                     18   \n",
      "4  3.714  12      2.846    19  ...            0.811                     20   \n",
      "\n",
      "   recog_unrelated_rt  recog_related_score  recog_related_rt  nback_score  \\\n",
      "0               0.952                   19             0.877           44   \n",
      "1               0.890                   19             1.230           58   \n",
      "2               1.297                   18             1.377           49   \n",
      "3               1.899                   20             1.292           59   \n",
      "4               0.756                   20             0.975           58   \n",
      "\n",
      "   nback_rt_mean  cycle_2  cycle_4  cycle_6  \n",
      "0          1.717       15       23       29  \n",
      "1          1.134        0        0        0  \n",
      "2          1.581        0        0        0  \n",
      "3          1.066        0        0        0  \n",
      "4          0.948       17       28       36  \n",
      "\n",
      "[5 rows x 30 columns]\n",
      "Colunas: ['ID_codes', 'Strategy', 'Group', 'JOSE', 'words_recalled', 'categorical_access', 'IPCA', 'R', 'expectedR', 'maxR', 'ARC', 'BAIpre', 'BAIpos', 'BAIdelta', 'PANASpre', 'PANASpos', 'PANASdelta', 'JOSEmoment', 'JOSEscore', 'recog_target_score', 'recog_target_rt', 'recog_unrelated_score', 'recog_unrelated_rt', 'recog_related_score', 'recog_related_rt', 'nback_score', 'nback_rt_mean', 'cycle_2', 'cycle_4', 'cycle_6']\n"
     ]
    }
   ],
   "source": [
    "data_path = os.path.join(CLEAN_DATA_DIR, \"measures_phd_valid.csv\")\n",
    "df = pd.read_csv(data_path)\n",
    "print(df.head())\n",
    "print(\"Colunas:\", df.columns.tolist())"
   ]
  },
  {
   "cell_type": "markdown",
   "id": "73652d2f",
   "metadata": {},
   "source": [
    "## 3. Detecção Dinâmica de Colunas"
   ]
  },
  {
   "cell_type": "code",
   "execution_count": 4,
   "id": "1e75224a",
   "metadata": {},
   "outputs": [
    {
     "name": "stdout",
     "output_type": "stream",
     "text": [
      "Using: Group, Strategy, ARC, words_recalled\n"
     ]
    }
   ],
   "source": [
    "cols = df.columns.tolist()\n",
    "ID_col = next((c for c in cols if 'id' in c.lower()), None)\n",
    "ID = 'ID_codes'\n",
    "group_col    = 'Group'\n",
    "strategy_col = 'Strategy'\n",
    "arc_col      = 'ARC'\n",
    "words_col    = 'words_recalled'\n",
    "bai_pre_col   = 'BAIpre'\n",
    "bai_pos_col   = 'BAIpos'\n",
    "bai_delta_col = 'BAIdelta'\n",
    "panas_pre_col   = 'PANASpre'\n",
    "panas_pos_col   = 'PANASpos'\n",
    "panas_delta_col = 'PANASdelta'\n",
    "print(f\"Using: {group_col}, {strategy_col}, {arc_col}, {words_col}\")"
   ]
  },
  {
   "cell_type": "code",
   "execution_count": 5,
   "id": "33800c78",
   "metadata": {},
   "outputs": [],
   "source": [
    "def format_anova_apa(res, desc):\n",
    "    \"\"\"\n",
    "    Formata resultados de ANOVA (intra ou mix) em estilo APA.\n",
    "    Tenta extrair DF1/DF2, DF ou apenas apresenta F e p.\n",
    "    \"\"\"\n",
    "    try:\n",
    "        eff = res[res['Source'] != 'Residual'].iloc[0]\n",
    "    except Exception:\n",
    "        eff = res.iloc[0]\n",
    "    # Initialize\n",
    "    df1 = None; df2 = None\n",
    "    # Try DF1/DF2\n",
    "    if 'DF1' in eff.index and 'DF2' in eff.index:\n",
    "        df1 = int(eff['DF1']); df2 = int(eff['DF2'])\n",
    "    # Try DF\n",
    "    elif 'DF' in eff.index:\n",
    "        df1 = int(eff['DF'])\n",
    "    # Extract F and p\n",
    "    Fval = eff.get('F', None)\n",
    "    pval = eff.get('p-unc', eff.get('p-value', None))\n",
    "    # Build string\n",
    "    if df1 is not None and df2 is not None:\n",
    "        return f\"{desc}: F({df1}, {df2}) = {Fval:.2f}, p = {pval:.3f}\"\n",
    "    elif df1 is not None:\n",
    "        return f\"{desc}: F({df1}) = {Fval:.2f}, p = {pval:.3f}\"\n",
    "    else:\n",
    "        return f\"{desc}: F = {Fval:.2f}, p = {pval:.3f}\""
   ]
  },
  {
   "cell_type": "markdown",
   "id": "77a7a267",
   "metadata": {},
   "source": [
    "## 4. Funções Auxiliares e Formatação APA"
   ]
  },
  {
   "cell_type": "code",
   "execution_count": 6,
   "id": "d1f0914d",
   "metadata": {},
   "outputs": [],
   "source": [
    "def format_anova_apa(res, desc):\n",
    "    \"\"\"\n",
    "    Formata resultados de ANOVA (incluindo RM ANOVA) em estilo APA.\n",
    "    Usa DF1 e DF2 se disponíveis, caso contrário apenas DF.\n",
    "    \"\"\"\n",
    "    eff = res[res['Source'] != 'Residual'].iloc[0]\n",
    "    # Verifica se tem DF1/DF2 (para rm_anova com detailed=True)\n",
    "    if 'DF1' in eff.index and 'DF2' in eff.index:\n",
    "        df1 = int(eff['DF1'])\n",
    "        df2 = int(eff['DF2'])\n",
    "    else:\n",
    "        df1 = int(eff['DF'])\n",
    "        df2 = None\n",
    "    Fval = eff['F']\n",
    "    pval = eff.get('p-unc', eff.get('p-value', None))\n",
    "    if df2 is not None:\n",
    "        return f\"{desc}: F({df1}, {df2}) = {Fval:.2f}, p = {pval:.3f}\"\n",
    "    else:\n",
    "        return f\"{desc}: F({df1}) = {Fval:.2f}, p = {pval:.3f}\""
   ]
  },
  {
   "cell_type": "markdown",
   "id": "66d98d82",
   "metadata": {},
   "source": [
    "## 5. Estatísticas Descritivas"
   ]
  },
  {
   "cell_type": "code",
   "execution_count": 7,
   "id": "8c654cb5",
   "metadata": {},
   "outputs": [],
   "source": [
    "desc_arc = df.groupby([group_col, strategy_col])[arc_col].agg(['count','mean','std'])\n",
    "plt.figure(); sns.boxplot(x=group_col, y=arc_col, hue=strategy_col, data=df); plt.tight_layout()\n",
    "img_arc = os.path.join(IMAGES_DIR,'boxplot_arc.png'); plt.savefig(img_arc); plt.close()\n",
    "desc_words = df.groupby([group_col, strategy_col])[words_col].agg(['count','mean','std'])\n",
    "plt.figure(); sns.boxplot(x=group_col, y=words_col, hue=strategy_col, data=df); plt.tight_layout()\n",
    "img_words = os.path.join(IMAGES_DIR,'boxplot_words.png'); plt.savefig(img_words); plt.close()"
   ]
  },
  {
   "cell_type": "markdown",
   "id": "7ec15300",
   "metadata": {},
   "source": [
    "## 6. Verificação de Manipulação (t-tests)"
   ]
  },
  {
   "cell_type": "code",
   "execution_count": 8,
   "id": "fb0ca711",
   "metadata": {},
   "outputs": [],
   "source": [
    "# Funções Auxiliares e Formatação APA\n",
    "import pandas as pd\n",
    "\n",
    "def add_analysis_to_excel(writer, sheet_name, df, intro_text=None, apa_text=None, img_path=None):\n",
    "    start_row = 0\n",
    "    if intro_text:\n",
    "        pd.DataFrame({\"Intro\": [intro_text]}).to_excel(\n",
    "            excel_writer=writer, sheet_name=sheet_name,\n",
    "            index=False, header=False, startrow=start_row\n",
    "        )\n",
    "        start_row += 3\n",
    "    if apa_text:\n",
    "        pd.DataFrame({\"APA\": [apa_text]}).to_excel(\n",
    "            excel_writer=writer, sheet_name=sheet_name,\n",
    "            index=False, header=False, startrow=start_row\n",
    "        )\n",
    "        start_row += 3\n",
    "    if df is not None and not df.empty:\n",
    "        df.to_excel(\n",
    "            excel_writer=writer, sheet_name=sheet_name,\n",
    "            startrow=start_row, index=True\n",
    "        )\n",
    "    else:\n",
    "        pd.DataFrame({\"Aviso\": [f\"Sem dados para {sheet_name}\"]}).to_excel(\n",
    "            excel_writer=writer, sheet_name=sheet_name,\n",
    "            index=False, header=False, startrow=start_row\n",
    "        )\n",
    "\n",
    "def format_ttest_apa(res, desc):\n",
    "    t_val = res[\"T\"].iloc[0]\n",
    "    df_val = int(res[\"dof\"].iloc[0])\n",
    "    p_val = res[\"p-val\"].iloc[0]\n",
    "    return f\"{desc}: t({df_val}) = {t_val:.2f}, p = {p_val:.3f}\"\n",
    "\n",
    "def format_anova_apa(res, desc):\n",
    "    try:\n",
    "        eff = res[res[\"Source\"] != \"Residual\"].iloc[0]\n",
    "    except:\n",
    "        eff = res.iloc[0]\n",
    "    df1 = None; df2 = None\n",
    "    if \"DF1\" in eff.index and \"DF2\" in eff.index:\n",
    "        df1 = int(eff[\"DF1\"]); df2 = int(eff[\"DF2\"])\n",
    "    elif \"DF\" in eff.index:\n",
    "        df1 = int(eff[\"DF\"])\n",
    "    Fval = eff.get(\"F\", None)\n",
    "    pval = eff.get(\"p-unc\", eff.get(\"p-value\", None))\n",
    "    if df1 is not None and df2 is not None:\n",
    "        return f\"{desc}: F({df1}, {df2}) = {Fval:.2f}, p = {pval:.3f}\"\n",
    "    elif df1 is not None:\n",
    "        return f\"{desc}: F({df1}) = {Fval:.2f}, p = {pval:.3f}\"\n",
    "    else:\n",
    "        return f\"{desc}: F = {Fval:.2f}, p = {pval:.3f}\"\n",
    "\n",
    "def checkpoint(vars_list):\n",
    "    print(\"Checkpoint variables:\")\n",
    "    for v in vars_list:\n",
    "        print(f\"  {v}: {'Exists' if v in globals() else 'Missing'}\")\n"
   ]
  },
  {
   "cell_type": "code",
   "execution_count": 9,
   "id": "0d1345b7",
   "metadata": {},
   "outputs": [],
   "source": [
    "df_c = df[df[group_col]==0]; df_s = df[df[group_col]==1]\n",
    "tt_ctrl = pg.ttest(df_c[bai_pre_col], df_c[bai_pos_col], paired=True)\n",
    "tt_str  = pg.ttest(df_s[bai_pre_col], df_s[bai_pos_col], paired=True)\n",
    "tt_delta= pg.ttest(df_c[bai_delta_col], df_s[bai_delta_col], correction=False)\n",
    "apa_ctrl = format_ttest_apa(tt_ctrl, 'Controle BAI pré vs pós')\n",
    "apa_str  = format_ttest_apa(tt_str,  'Estresse BAI pré vs pós')\n",
    "apa_delta= format_ttest_apa(tt_delta,'Delta BAI Controle vs Estresse')"
   ]
  },
  {
   "cell_type": "markdown",
   "id": "32dd5d84",
   "metadata": {},
   "source": [
    "## 7. ANOVA Fatorial 2×2"
   ]
  },
  {
   "cell_type": "code",
   "execution_count": 10,
   "id": "cd777ef1",
   "metadata": {},
   "outputs": [],
   "source": [
    "anova_arc   = pg.anova(data=df, dv=arc_col, between=[group_col, strategy_col], detailed=True)\n",
    "anova_words = pg.anova(data=df, dv=words_col, between=[group_col, strategy_col], detailed=True)\n",
    "apa_anova_arc   = format_anova_apa(anova_arc,   'ANOVA ARC')\n",
    "apa_anova_words = format_anova_apa(anova_words, 'ANOVA Words')"
   ]
  },
  {
   "cell_type": "markdown",
   "id": "14785909",
   "metadata": {},
   "source": [
    "## 8. Testes de Pressupostos"
   ]
  },
  {
   "cell_type": "code",
   "execution_count": 11,
   "id": "afcda257",
   "metadata": {},
   "outputs": [
    {
     "name": "stdout",
     "output_type": "stream",
     "text": [
      "Shapiro-Wilk: ShapiroResult(statistic=np.float64(0.9496338805430701), pvalue=np.float64(0.00045289239011764954))\n",
      "Levene: LeveneResult(statistic=np.float64(0.09260157079888275), pvalue=np.float64(0.7614920858568277))\n"
     ]
    }
   ],
   "source": [
    "model_arc = ols(f\"{arc_col} ~ C({group_col})*C({strategy_col})\", data=df).fit()\n",
    "shapiro_res = stats.shapiro(model_arc.resid)\n",
    "levene_res  = stats.levene(df_c[arc_col], df_s[arc_col])\n",
    "print('Shapiro-Wilk:', shapiro_res)\n",
    "print('Levene:', levene_res)"
   ]
  },
  {
   "cell_type": "markdown",
   "id": "799db15a",
   "metadata": {},
   "source": [
    "## 9. Análises Post-hoc"
   ]
  },
  {
   "cell_type": "code",
   "execution_count": 12,
   "id": "4a792af3",
   "metadata": {},
   "outputs": [
    {
     "name": "stdout",
     "output_type": "stream",
     "text": [
      "   A  B   mean(A)   mean(B)      diff        se         T   p-tukey    hedges\n",
      "0  0  1  0.590113  0.636418 -0.046305  0.044025 -1.051781  0.295292 -0.201014\n"
     ]
    }
   ],
   "source": [
    "tukey_arc = pg.pairwise_tukey(dv=arc_col, between=strategy_col, data=df)\n",
    "print(tukey_arc)"
   ]
  },
  {
   "cell_type": "markdown",
   "id": "cab1faab",
   "metadata": {},
   "source": [
    "## 10. Correção para Múltiplas Comparações"
   ]
  },
  {
   "cell_type": "code",
   "execution_count": 13,
   "id": "3ae7a155",
   "metadata": {},
   "outputs": [],
   "source": [
    "p_vals = [tt_ctrl['p-val'].iloc[0], tt_str['p-val'].iloc[0], tt_delta['p-val'].iloc[0]]\n",
    "keys  = ['ctrl','stress','delta']\n",
    "_, p_bonf, _, _ = multipletests(p_vals, method='bonferroni')\n",
    "_, p_fdr, _, _   = multipletests(p_vals, method='fdr_bh')\n",
    "df_corr = pd.DataFrame({'Teste':keys,'p_raw':p_vals,'Bonferroni':p_bonf,'FDR':p_fdr})"
   ]
  },
  {
   "cell_type": "markdown",
   "id": "f385ff7a",
   "metadata": {},
   "source": [
    "## 11. ANOVA Repeated Measures (Ciclos JOSE)"
   ]
  },
  {
   "cell_type": "code",
   "execution_count": 14,
   "id": "9f4dab3f",
   "metadata": {},
   "outputs": [
    {
     "name": "stdout",
     "output_type": "stream",
     "text": [
      "  Source  ddof1  ddof2          F         p-unc     p-GG-corr       ng2  \\\n",
      "0  Cycle      2    214  68.266106  1.170536e-23  1.383824e-15  0.040755   \n",
      "\n",
      "        eps  sphericity   W-spher       p-spher  \n",
      "0  0.617173       False  0.379708  5.138423e-23  \n"
     ]
    }
   ],
   "source": [
    "# 11. ANOVA Repeated Measures (Ciclos JOSE)\n",
    "df_cycles = df.melt(id_vars=[ID_col, group_col, strategy_col],\n",
    "                    value_vars=['cycle_2', 'cycle_4', 'cycle_6'],\n",
    "                    var_name='Cycle', value_name='Performance')\n",
    "df_cycles['Cycle'] = df_cycles['Cycle'].str.replace('cycle_', '').astype(int)\n",
    "\n",
    "# Repeated Measures ANOVA para medidas repetidas\n",
    "rm_arc = pg.rm_anova(data=df_cycles, dv='Performance',\n",
    "                    within='Cycle', subject=ID_col)\n",
    "print(rm_arc)\n",
    "\n",
    "# Formatação APA\n",
    "apa_rm = format_anova_apa(rm_arc, 'RM ANOVA Ciclos')\n"
   ]
  },
  {
   "cell_type": "markdown",
   "id": "3f8fda3b",
   "metadata": {},
   "source": [
    "## 12. Modelos Mistos"
   ]
  },
  {
   "cell_type": "code",
   "execution_count": 15,
   "id": "dc3d878e",
   "metadata": {},
   "outputs": [
    {
     "name": "stdout",
     "output_type": "stream",
     "text": [
      "            Mixed Linear Model Regression Results\n",
      "=============================================================\n",
      "Model:            MixedLM Dependent Variable: recog_target_rt\n",
      "No. Observations: 108     Method:             REML           \n",
      "No. Groups:       108     Scale:              0.0314         \n",
      "Min. group size:  1       Log-Likelihood:     -13.1426       \n",
      "Max. group size:  1       Converged:          Yes            \n",
      "Mean group size:  1.0                                        \n",
      "--------------------------------------------------------------\n",
      "           Coef.     Std.Err.      z     P>|z|  [0.025  0.975]\n",
      "--------------------------------------------------------------\n",
      "const       1.006         0.044  22.773  0.000   0.919   1.092\n",
      "Group       0.002         0.052   0.045  0.964  -0.099   0.103\n",
      "Strategy    0.023         0.048   0.470  0.638  -0.072   0.118\n",
      "BAIdelta   -0.004         0.005  -0.756  0.450  -0.015   0.007\n",
      "Group Var   0.031  16822385.445                               \n",
      "=============================================================\n",
      "\n",
      "             Mixed Linear Model Regression Results\n",
      "================================================================\n",
      "Model:            MixedLM Dependent Variable: recog_target_score\n",
      "No. Observations: 108     Method:             REML              \n",
      "No. Groups:       108     Scale:              4.4678            \n",
      "Min. group size:  1       Log-Likelihood:     -270.9197         \n",
      "Max. group size:  1       Converged:          Yes               \n",
      "Mean group size:  1.0                                           \n",
      "-----------------------------------------------------------------\n",
      "             Coef.      Std.Err.      z     P>|z|  [0.025  0.975]\n",
      "-----------------------------------------------------------------\n",
      "const        38.298          0.527  72.713  0.000  37.266  39.331\n",
      "Group        -0.458          0.614  -0.746  0.455  -1.662   0.745\n",
      "Strategy     -0.085          0.578  -0.147  0.883  -1.217   1.047\n",
      "BAIdelta      0.031          0.065   0.474  0.635  -0.096   0.157\n",
      "Group Var     4.468  200604833.629                               \n",
      "================================================================\n",
      "\n"
     ]
    }
   ],
   "source": [
    "# Mixed model para reaction times\n",
    "md = MixedLM(endog=df['recog_target_rt'], exog=sm.add_constant(df[[group_col, strategy_col, bai_delta_col]]),\n",
    "              groups=df[ID])\n",
    "mixed_rt = md.fit()\n",
    "print(mixed_rt.summary())\n",
    "\n",
    "# Mixed model para scores\n",
    "md2 = MixedLM(endog=df['recog_target_score'], exog=sm.add_constant(df[[group_col, strategy_col, bai_delta_col]]),\n",
    "               groups=df[ID])\n",
    "mixed_score = md2.fit()\n",
    "print(mixed_score.summary())"
   ]
  },
  {
   "cell_type": "code",
   "execution_count": 16,
   "id": "e539d2aa",
   "metadata": {},
   "outputs": [],
   "source": [
    "# Preparar DataFrames para resultados de Modelos Mistos\n",
    "mixed_rt_df = mixed_rt.summary().tables[1].reset_index().assign(Analysis='Mixed RT')\n",
    "mixed_score_df = mixed_score.summary().tables[1].reset_index().assign(Analysis='Mixed Score')\n"
   ]
  },
  {
   "cell_type": "markdown",
   "id": "8c52018c",
   "metadata": {},
   "source": [
    "## 13. Correlações e Regressões"
   ]
  },
  {
   "cell_type": "code",
   "execution_count": 17,
   "id": "8cf5fec7",
   "metadata": {},
   "outputs": [
    {
     "name": "stdout",
     "output_type": "stream",
     "text": [
      "           n         r          CI95%     p-val   BF10    power\n",
      "pearson  108 -0.030194  [-0.22, 0.16]  0.756404  0.126  0.06098\n",
      "                            OLS Regression Results                            \n",
      "==============================================================================\n",
      "Dep. Variable:         words_recalled   R-squared:                       0.159\n",
      "Model:                            OLS   Adj. R-squared:                  0.127\n",
      "Method:                 Least Squares   F-statistic:                     4.886\n",
      "Date:                Mon, 09 Jun 2025   Prob (F-statistic):            0.00120\n",
      "Time:                        07:30:46   Log-Likelihood:                -370.53\n",
      "No. Observations:                 108   AIC:                             751.1\n",
      "Df Residuals:                     103   BIC:                             764.5\n",
      "Df Model:                           4                                         \n",
      "Covariance Type:            nonrobust                                         \n",
      "==============================================================================\n",
      "                 coef    std err          t      P>|t|      [0.025      0.975]\n",
      "------------------------------------------------------------------------------\n",
      "Intercept     21.2946      1.385     15.375      0.000      18.548      24.041\n",
      "Group         -1.6542      1.637     -1.011      0.315      -4.900       1.592\n",
      "Strategy       4.7759      1.511      3.160      0.002       1.778       7.773\n",
      "BAIdelta       0.0940      0.203      0.463      0.645      -0.309       0.497\n",
      "PANASdelta     0.2861      0.149      1.917      0.058      -0.010       0.582\n",
      "==============================================================================\n",
      "Omnibus:                        2.108   Durbin-Watson:                   1.811\n",
      "Prob(Omnibus):                  0.348   Jarque-Bera (JB):                1.524\n",
      "Skew:                          -0.051   Prob(JB):                        0.467\n",
      "Kurtosis:                       2.427   Cond. No.                         21.1\n",
      "==============================================================================\n",
      "\n",
      "Notes:\n",
      "[1] Standard Errors assume that the covariance matrix of the errors is correctly specified.\n"
     ]
    }
   ],
   "source": [
    "# Correlação BAIdelta x ARC\n",
    "corr = pg.corr(x=df[bai_delta_col], y=df[arc_col])\n",
    "print(corr)\n",
    "\n",
    "# Regressão múltipla prevendo words_recalled\n",
    "import statsmodels.formula.api as smf\n",
    "model = smf.ols(f\"{words_col} ~ {group_col} + {strategy_col} + {bai_delta_col} + {panas_delta_col}\", data=df).fit()\n",
    "print(model.summary())"
   ]
  },
  {
   "cell_type": "markdown",
   "id": "a094522f",
   "metadata": {},
   "source": [
    "## 14. Análise de Mediação"
   ]
  },
  {
   "cell_type": "code",
   "execution_count": 18,
   "id": "00177768",
   "metadata": {},
   "outputs": [
    {
     "name": "stdout",
     "output_type": "stream",
     "text": [
      "             path      coef        se      pval  CI[2.5%]  CI[97.5%]  sig\n",
      "0  PANASdelta ~ X  5.540764  1.186764  0.000009  3.187889   7.893639  Yes\n",
      "1  Y ~ PANASdelta  0.311338  0.114352  0.007574  0.084624   0.538052  Yes\n",
      "2           Total  0.058824  1.586881  0.970500 -3.087323   3.204970   No\n",
      "3          Direct -2.008868  1.681137  0.234800 -5.342252   1.324516   No\n",
      "4        Indirect  2.067692  0.763559  0.000000  0.906654   3.992762  Yes\n"
     ]
    }
   ],
   "source": [
    "# Mediação: Group -> PANASdelta -> words_recalled\n",
    "med = pg.mediation_analysis(data=df, x=group_col, m=panas_delta_col, y=words_col)\n",
    "print(med)"
   ]
  },
  {
   "cell_type": "markdown",
   "id": "79979223",
   "metadata": {},
   "source": [
    "## 15. PCA e Clustering"
   ]
  },
  {
   "cell_type": "code",
   "execution_count": 19,
   "id": "f7616d2e",
   "metadata": {},
   "outputs": [
    {
     "name": "stdout",
     "output_type": "stream",
     "text": [
      "Explained variance ratios: [0.76831014 0.12040672]\n",
      "Cluster distribution: Cluster\n",
      "1    44\n",
      "2    35\n",
      "0    29\n",
      "Name: count, dtype: int64\n"
     ]
    }
   ],
   "source": [
    "# 15. PCA e Clustering\n",
    "# Seleção de variáveis cognitivas\n",
    "vars_cog = ['ARC', 'categorical_access', 'IPCA', 'R', 'expectedR', 'maxR']\n",
    "X = StandardScaler().fit_transform(df[vars_cog])\n",
    "pca = PCA(n_components=2).fit(X)\n",
    "print('Explained variance ratios:', pca.explained_variance_ratio_)\n",
    "\n",
    "# KMeans clustering\n",
    "kmeans = KMeans(n_clusters=3, random_state=0).fit(X)\n",
    "df['Cluster'] = kmeans.labels_\n",
    "\n",
    "# Scatter plot das componentes PCA com clusters\n",
    "scores = pca.transform(X)\n",
    "plt.figure()\n",
    "plt.scatter(scores[:, 0], scores[:, 1], c=df['Cluster'])\n",
    "plt.title('PCA Components by Cluster')\n",
    "plt.xlabel('PC1')\n",
    "plt.ylabel('PC2')\n",
    "plt.tight_layout()\n",
    "plt.savefig(os.path.join(IMAGES_DIR, 'pca_scatter.png'))\n",
    "plt.close()\n",
    "\n",
    "print('Cluster distribution:', df['Cluster'].value_counts())"
   ]
  },
  {
   "cell_type": "markdown",
   "id": "1f99256e",
   "metadata": {},
   "source": [
    "## 16. ANOVA Repeated Measures para Reconhecimento"
   ]
  },
  {
   "cell_type": "code",
   "execution_count": 20,
   "id": "275922b8",
   "metadata": {},
   "outputs": [
    {
     "name": "stdout",
     "output_type": "stream",
     "text": [
      "  Source            SS   DF            MS            F          p-unc  \\\n",
      "0   Type  29925.265432    2  14962.632716  2181.100342  4.788860e-143   \n",
      "1  Error   1468.067901  214      6.860130          NaN            NaN   \n",
      "\n",
      "      p-GG-corr       ng2       eps sphericity   W-spher       p-spher  \n",
      "0  1.148644e-91  0.899744  0.633247      False  0.420837  1.196785e-20  \n",
      "1           NaN       NaN       NaN        NaN       NaN           NaN  \n"
     ]
    }
   ],
   "source": [
    "# 16. ANOVA Repeated Measures para Reconhecimento\n",
    "df_recog = df.melt(id_vars=[ID_col, group_col, strategy_col],\n",
    "                   value_vars=['recog_target_score','recog_unrelated_score','recog_related_score'],\n",
    "                   var_name='Type', value_name='Score')\n",
    "df_recog['Type'] = (df_recog['Type']\n",
    "                    .str.replace('recog_', '')\n",
    "                    .str.replace('_score', '')\n",
    "                    .astype('category'))\n",
    "\n",
    "# Repeated Measures ANOVA para reconhecimento (pingouin)\n",
    "rm_recog = pg.rm_anova(data=df_recog,\n",
    "                      dv='Score',\n",
    "                      within='Type',\n",
    "                      subject=ID_col,\n",
    "                      detailed=True)\n",
    "print(rm_recog)\n",
    "\n",
    "# Formatação APA\n",
    "apa_recog = format_anova_apa(rm_recog, 'RM ANOVA Reconhecimento')\n"
   ]
  },
  {
   "cell_type": "markdown",
   "id": "e53caf3a",
   "metadata": {},
   "source": [
    "## 17. Speed–Accuracy Trade-off"
   ]
  },
  {
   "cell_type": "code",
   "execution_count": 21,
   "id": "7fd3e8d8",
   "metadata": {},
   "outputs": [
    {
     "data": {
      "image/png": "[encoded data removed]",
      "text/plain": [
       "<Figure size 640x480 with 1 Axes>"
      ]
     },
     "metadata": {},
     "output_type": "display_data"
    }
   ],
   "source": [
    "# Criar ratio Score/RT para cada reconhecimento\n",
    "df['TA_ratio'] = df['recog_target_score'] / df['recog_target_rt']\n",
    "sns.scatterplot(x='recog_target_rt', y='recog_target_score', hue=group_col, data=df)\n",
    "plt.title('Speed-Accuracy Trade-off')\n",
    "plt.tight_layout()\n",
    "plt.savefig(os.path.join(IMAGES_DIR,'speed_accuracy.png'))\n"
   ]
  },
  {
   "cell_type": "markdown",
   "id": "717db77d",
   "metadata": {},
   "source": [
    "## 18. Salvamento em Excel e CSV"
   ]
  },
  {
   "cell_type": "code",
   "execution_count": 22,
   "id": "d1b54838",
   "metadata": {},
   "outputs": [
    {
     "name": "stdout",
     "output_type": "stream",
     "text": [
      "Checkpoint variables:\n",
      "  desc_arc: Exists\n",
      "  desc_words: Exists\n",
      "  tt_ctrl: Exists\n",
      "  tt_str: Exists\n",
      "  tt_delta: Exists\n",
      "  anova_arc: Exists\n",
      "  anova_words: Exists\n",
      "  df_corr: Exists\n",
      "  rm_arc: Exists\n",
      "  mixed_rt: Exists\n",
      "  mixed_score: Exists\n",
      "  corr: Exists\n",
      "  model: Exists\n",
      "  med: Exists\n",
      "  pca: Exists\n",
      "  kmeans: Exists\n",
      "  rm_recog: Exists\n",
      "Excel salvo em D:\\PhD_Jupyter\\files\\data\\analysis\\images\\PhD_Analysis_Full.xlsx\n",
      "CSV salvo em D:\\PhD_Jupyter\\files\\data\\analysis\\images\\PhD_Analysis_Full.csv\n"
     ]
    }
   ],
   "source": [
    "checkpoint(['desc_arc','desc_words','tt_ctrl','tt_str','tt_delta','anova_arc','anova_words',\n",
    "            'df_corr','rm_arc','mixed_rt','mixed_score','corr','model','med','pca','kmeans','rm_recog'])\n",
    "excel = os.path.join(IMAGES_DIR, EXCEL_FILENAME)\n",
    "csvf = os.path.join(IMAGES_DIR, CSV_FILENAME)\n",
    "with pd.ExcelWriter(excel, engine='openpyxl') as w:\n",
    "    pd.DataFrame({'Status':[f'Versão 3.18']} ).to_excel(excel_writer=w, sheet_name='Status', index=False)\n",
    "    # Adiciona todas as abas anteriores\n",
    "    add_analysis_to_excel(w,'Descritiva_ARC',desc_arc,'Descritivas ARC',None,img_arc)\n",
    "    add_analysis_to_excel(w,'Descritiva_Palavras',desc_words,'Descritivas Words',None,img_words)\n",
    "    add_analysis_to_excel(w,'Manip_CTRL',tt_ctrl,None,apa_ctrl)\n",
    "    add_analysis_to_excel(w,'Manip_STRESS',tt_str,None,apa_str)\n",
    "    add_analysis_to_excel(w,'Manip_DELTA',tt_delta,None,apa_delta)\n",
    "    add_analysis_to_excel(w,'ANOVA_ARC',anova_arc,None,apa_anova_arc)\n",
    "    add_analysis_to_excel(w,'ANOVA_Words',anova_words,None,apa_anova_words)\n",
    "    add_analysis_to_excel(w,'Pressupostos',pd.DataFrame([{'Shapiro':shapiro_res.pvalue,'Levene':levene_res.pvalue}]),'Pressupostos ARC')\n",
    "    add_analysis_to_excel(w,'Post_hoc_ARC',tukey_arc,'Tukey ARC')\n",
    "    add_analysis_to_excel(w,'Correcao_Multipla',df_corr,'Correção Múltipla')\n",
    "    add_analysis_to_excel(w,'RM_Ciclos', rm_arc, apa_text=apa_rm)\n",
    "    add_analysis_to_excel(w,'Mixed_RT',mixed_rt.summary().tables[1], 'Mixed Model RT')\n",
    "    add_analysis_to_excel(w,'Mixed_Score',mixed_score.summary().tables[1], 'Mixed Model Score')\n",
    "    add_analysis_to_excel(w,'Correlacao',corr,'Correlação BAIdelta x ARC')\n",
    "    add_analysis_to_excel(w,'Regressao',pd.DataFrame(model.params, columns=['Estimate']), 'Regressão Múltipla')\n",
    "    add_analysis_to_excel(w,'Mediacao',med,'Mediação PANAS')\n",
    "    # PCA e Cluster\n",
    "    add_analysis_to_excel(w,'PCA',pd.DataFrame(pca.components_, columns=vars_cog), 'PCA componentes')\n",
    "    add_analysis_to_excel(w,'Cluster',df[['Cluster']], 'KMeans Clusters')\n",
    "    add_analysis_to_excel(w,'RM_Recog', rm_recog, apa_text=apa_recog)\n",
    "    add_analysis_to_excel(w,'Speed_Acc',pd.DataFrame(df['TA_ratio'], columns=['TA_ratio']), 'Speed-Accuracy Ratio')\n",
    "\n",
    "resultados = pd.concat([desc_arc.reset_index().assign(Analysis='Desc ARC'),\n",
    "    desc_words.reset_index().assign(Analysis='Desc Words'),\n",
    "    tt_ctrl.reset_index().assign(Analysis='Manip CTRL'),\n",
    "    tt_str.reset_index().assign(Analysis='Manip STRESS'),\n",
    "    tt_delta.reset_index().assign(Analysis='Manip DELTA'),\n",
    "    anova_arc.reset_index().assign(Analysis='ANOVA ARC'),\n",
    "    anova_words.reset_index().assign(Analysis='ANOVA Words'),\n",
    "    df_corr.reset_index().assign(Analysis='Correção Múltipla'),\n",
    "    df_cycles.reset_index().assign(Analysis='RM Ciclos'),\n",
    "    corr.reset_index().assign(Analysis='Correlação'),\n",
    "    med.assign(Analysis='Mediação'),\n",
    "    pd.DataFrame(pca.components_, columns=vars_cog).assign(Analysis='PCA'),\n",
    "    df[['Cluster']].reset_index().assign(Analysis='Cluster'),\n",
    "    rm_recog.reset_index().assign(Analysis='RM Reconhecimento'),\n",
    "    mixed_rt_df,\n",
    "    mixed_score_df,\n",
    "], ignore_index=True)\n",
    "resultados.to_csv(csvf, index=False)\n",
    "print('Excel salvo em', excel)\n",
    "print('CSV salvo em', csvf)"
   ]
  },
  {
   "cell_type": "code",
   "execution_count": null,
   "id": "aa681f61-712c-43fc-9ccb-b55e6b313e28",
   "metadata": {},
   "outputs": [],
   "source": []
  }
 ],
 "metadata": {
  "kernelspec": {
   "display_name": "Python 3 (ipykernel)",
   "language": "python",
   "name": "python3"
  },
  "language_info": {
   "codemirror_mode": {
    "name": "ipython",
    "version": 3
   },
   "file_extension": ".py",
   "mimetype": "text/x-python",
   "name": "python",
   "nbconvert_exporter": "python",
   "pygments_lexer": "ipython3",
   "version": "3.13.3"
  }
 },
 "nbformat": 4,
 "nbformat_minor": 5
}
